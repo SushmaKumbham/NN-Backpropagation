{
 "cells": [
  {
   "cell_type": "code",
   "execution_count": null,
   "id": "9ea69e30",
   "metadata": {},
   "outputs": [],
   "source": [
    "'''\n",
    "Group14\n",
    "\n",
    "Team Members:\n",
    "Gayathri Punukollu\n",
    "Sushma Kumbham\n",
    "Usha Sree Komati\n",
    "Vijita Sagari Bobba\n",
    "\n",
    "All members have contributed equally to the assignment'''"
   ]
  },
  {
   "cell_type": "code",
   "execution_count": 1108,
   "id": "80bc49d0-5585-4067-9185-a374d7633885",
   "metadata": {},
   "outputs": [],
   "source": [
    "import numpy as np\n",
    "from sklearn.model_selection import train_test_split\n",
    "import pandas as pd\n",
    "from random import seed\n",
    "from random import randrange\n",
    "from random import random\n",
    "import math"
   ]
  },
  {
   "cell_type": "code",
   "execution_count": 1109,
   "id": "fd82f400-fd79-4500-b0a4-63fcee1c900d",
   "metadata": {},
   "outputs": [],
   "source": [
    "df = pd.read_csv('/Users/sushmakumbham/Downloads/data_banknote_authentication.csv', header = None)"
   ]
  },
  {
   "cell_type": "code",
   "execution_count": 1110,
   "id": "ac58b8fd-f3df-48f4-81d1-ce17e38589dc",
   "metadata": {},
   "outputs": [
    {
     "data": {
      "text/html": [
       "<div>\n",
       "<style scoped>\n",
       "    .dataframe tbody tr th:only-of-type {\n",
       "        vertical-align: middle;\n",
       "    }\n",
       "\n",
       "    .dataframe tbody tr th {\n",
       "        vertical-align: top;\n",
       "    }\n",
       "\n",
       "    .dataframe thead th {\n",
       "        text-align: right;\n",
       "    }\n",
       "</style>\n",
       "<table border=\"1\" class=\"dataframe\">\n",
       "  <thead>\n",
       "    <tr style=\"text-align: right;\">\n",
       "      <th></th>\n",
       "      <th>0</th>\n",
       "      <th>1</th>\n",
       "      <th>2</th>\n",
       "      <th>3</th>\n",
       "      <th>4</th>\n",
       "    </tr>\n",
       "  </thead>\n",
       "  <tbody>\n",
       "    <tr>\n",
       "      <th>0</th>\n",
       "      <td>3.62160</td>\n",
       "      <td>8.6661</td>\n",
       "      <td>-2.8073</td>\n",
       "      <td>-0.44699</td>\n",
       "      <td>0</td>\n",
       "    </tr>\n",
       "    <tr>\n",
       "      <th>1</th>\n",
       "      <td>4.54590</td>\n",
       "      <td>8.1674</td>\n",
       "      <td>-2.4586</td>\n",
       "      <td>-1.46210</td>\n",
       "      <td>0</td>\n",
       "    </tr>\n",
       "    <tr>\n",
       "      <th>2</th>\n",
       "      <td>3.86600</td>\n",
       "      <td>-2.6383</td>\n",
       "      <td>1.9242</td>\n",
       "      <td>0.10645</td>\n",
       "      <td>0</td>\n",
       "    </tr>\n",
       "    <tr>\n",
       "      <th>3</th>\n",
       "      <td>3.45660</td>\n",
       "      <td>9.5228</td>\n",
       "      <td>-4.0112</td>\n",
       "      <td>-3.59440</td>\n",
       "      <td>0</td>\n",
       "    </tr>\n",
       "    <tr>\n",
       "      <th>4</th>\n",
       "      <td>0.32924</td>\n",
       "      <td>-4.4552</td>\n",
       "      <td>4.5718</td>\n",
       "      <td>-0.98880</td>\n",
       "      <td>0</td>\n",
       "    </tr>\n",
       "  </tbody>\n",
       "</table>\n",
       "</div>"
      ],
      "text/plain": [
       "         0       1       2        3  4\n",
       "0  3.62160  8.6661 -2.8073 -0.44699  0\n",
       "1  4.54590  8.1674 -2.4586 -1.46210  0\n",
       "2  3.86600 -2.6383  1.9242  0.10645  0\n",
       "3  3.45660  9.5228 -4.0112 -3.59440  0\n",
       "4  0.32924 -4.4552  4.5718 -0.98880  0"
      ]
     },
     "execution_count": 1110,
     "metadata": {},
     "output_type": "execute_result"
    }
   ],
   "source": [
    "df.head()"
   ]
  },
  {
   "cell_type": "code",
   "execution_count": 1111,
   "id": "2dbe9180-13a1-44cc-83c3-b368a669354c",
   "metadata": {},
   "outputs": [],
   "source": [
    "df_list = df.values.tolist()\n",
    "\n",
    "#Since list indices should not have float values, we are converting it into int\n",
    "for i in range(len(df_list)):\n",
    "    df_list[i][4] = int(df_list[i][4])"
   ]
  },
  {
   "cell_type": "code",
   "execution_count": 1112,
   "id": "c2455ce3-0009-4dab-aa5e-4024b7858494",
   "metadata": {},
   "outputs": [],
   "source": [
    "#Splitting the train,test data\n",
    "train_data, test_data = train_test_split(df_list, test_size=0.33, random_state=42)"
   ]
  },
  {
   "cell_type": "code",
   "execution_count": 1113,
   "id": "d59d25e9-a362-46b0-8e77-7e15fe621a80",
   "metadata": {},
   "outputs": [],
   "source": [
    "#Function to calculate the accuracy\n",
    "def get_accuracy(true, pred):\n",
    "    count = 0\n",
    "    l=len(true)\n",
    "    x=float(l)\n",
    "    for i in range(l):\n",
    "        if true[i] == pred[i]:\n",
    "            count = count+1\n",
    "    val=count/x\n",
    "    return val * 100.0"
   ]
  },
  {
   "cell_type": "code",
   "execution_count": 1114,
   "id": "9a15517f",
   "metadata": {},
   "outputs": [],
   "source": [
    "#Each splitted data function\n",
    "def each_split(fold,each_fold_len,df_list):\n",
    "    while len(fold) < each_fold_len:\n",
    "        index = randrange(len(df_list))\n",
    "        fold.append(df_list.pop(index))\n",
    "    return fold"
   ]
  },
  {
   "cell_type": "code",
   "execution_count": 1115,
   "id": "53a7eb3f",
   "metadata": {},
   "outputs": [],
   "source": [
    "# Dataset splitting using k folds\n",
    "def kfold_split(df_list,lenx, k_folds):\n",
    "    data_splitted = list()\n",
    "    each_fold_len = int(lenx / k_folds)\n",
    "    for i in range(k_folds):\n",
    "        fold = list()\n",
    "        fold = each_split(fold,each_fold_len,df_list)\n",
    "        data_splitted.append(fold)\n",
    "    return data_splitted"
   ]
  },
  {
   "cell_type": "code",
   "execution_count": 1116,
   "id": "170896e7",
   "metadata": {},
   "outputs": [],
   "source": [
    "#Obtaining all the split data needed to calculate the accuracy\n",
    "def calc_acc(algo,i,train_set_data,test_set_data, *args):\n",
    "    for each in i:\n",
    "        each_list = list(each)\n",
    "        test_set_data.append(each_list)\n",
    "        each_list[-1] = None\n",
    "    pred = algo(train_set_data, test_set_data, *args)\n",
    "    true = [each[-1] for each in i]\n",
    "    accuracy = get_accuracy(true, pred)\n",
    "    return accuracy"
   ]
  },
  {
   "cell_type": "code",
   "execution_count": 1117,
   "id": "2abe03ea",
   "metadata": {},
   "outputs": [],
   "source": [
    "#Cross validation split for each method we perform\n",
    "def algorithm_cvs(df_list,lenx, algo, k_folds, *args):\n",
    "    Kfold = kfold_split(df_list,lenx,k_folds)\n",
    "    acc = list()\n",
    "    for i in Kfold:\n",
    "        test_set_data = list()\n",
    "        train_set_data = list(Kfold)\n",
    "        train_set_data.remove(i)\n",
    "        train_set_data = sum(train_set_data, [])\n",
    "        accuracy=calc_acc(algo,i,train_set_data,test_set_data, *args)\n",
    "        acc.append(accuracy)\n",
    "    return acc"
   ]
  },
  {
   "cell_type": "code",
   "execution_count": 1118,
   "id": "11cae993-a30d-4d53-832a-a97e6013d5ff",
   "metadata": {},
   "outputs": [],
   "source": [
    "# Initializing a network\n",
    "def get_initial_network(no_inputs, n_hidden, n_outputs):\n",
    "    network = list()\n",
    "    hidden_layer = []\n",
    "    output_layer = []\n",
    "    for i in range(n_hidden):\n",
    "        weights = {'weights': []}\n",
    "        for j in range(no_inputs + 1):\n",
    "            weights['weights'].append(random())\n",
    "        hidden_layer.append(weights) \n",
    "    network.append(hidden_layer)\n",
    "    for i in range(n_outputs):\n",
    "        weights = {'weights': []}\n",
    "        for j in range(n_hidden + 1):\n",
    "            weights['weights'].append(random())\n",
    "        output_layer.append(weights)\n",
    "    network.append(output_layer)\n",
    "    return network"
   ]
  },
  {
   "cell_type": "code",
   "execution_count": 1119,
   "id": "7887db8d-01cd-44b9-853d-f9d7f26be373",
   "metadata": {},
   "outputs": [],
   "source": [
    "#For a given input, we are calculating the neuron activation function\n",
    "def neu_activation(weights, ip):\n",
    "    activation = weights[-1]\n",
    "    aw=len(weights)-1\n",
    "    for i in range(aw):\n",
    "        aw_ip=weights[i] * ip[i]\n",
    "        activation = activation+aw_ip\n",
    "    return activation"
   ]
  },
  {
   "cell_type": "code",
   "execution_count": 1120,
   "id": "4919b224",
   "metadata": {},
   "outputs": [],
   "source": [
    "#Weights updating function\n",
    "def wu(i,net,inputx,learning_rate):\n",
    "    for neu in net[i]:\n",
    "        y=len(inputx)\n",
    "        for j in range(y):\n",
    "            neu['weights'][j] += learning_rate * neu['delta'] * inputx[j]\n",
    "        neu['weights'][-1] += learning_rate * neu['delta']"
   ]
  },
  {
   "cell_type": "code",
   "execution_count": 1121,
   "id": "26784311-2175-4214-8589-cfb24abb2b8a",
   "metadata": {},
   "outputs": [],
   "source": [
    "# Weight updation by getting the error value\n",
    "def weights_updation(net, r, learning_rate):\n",
    "    x=len(net)\n",
    "    for i in range(x):\n",
    "        inputx = r[:-1]\n",
    "        if i != 0:\n",
    "            inputx = [neu['output'] for neu in net[i - 1]]\n",
    "        wu(i,net,inputx,learning_rate)"
   ]
  },
  {
   "cell_type": "code",
   "execution_count": 1122,
   "id": "bea76b8e",
   "metadata": {},
   "outputs": [],
   "source": [
    "# Computing the Predictions for sigmoid while performing the forward propagation for the data.\n",
    "def sigmoid_predict(net, r):\n",
    "    i = r\n",
    "    for layer in net:\n",
    "        new_ip = []\n",
    "        for neu in layer:\n",
    "            activation = neu_activation(neu['weights'], i)\n",
    "            neu['output'] = 1.0 / (1.0 + np.exp(-activation))\n",
    "            new_ip.append(neu['output'])\n",
    "        i = new_ip\n",
    "    a = i\n",
    "    return a.index(max(a))"
   ]
  },
  {
   "cell_type": "code",
   "execution_count": 1123,
   "id": "094d242b",
   "metadata": {},
   "outputs": [],
   "source": [
    "#Network train initialization with a given number of epochs\n",
    "def Train_net_sigmoid_func(net, train, learning_rate, n_epochs, n_op):\n",
    "    for epochs in range(n_epochs):\n",
    "        for i in train:\n",
    "            op = sigmoid_predict(net, i)\n",
    "            exp = [0 for i in range(n_op)]\n",
    "            exp[i[-1]] = 1\n",
    "            back_propagate_sigmod_func(net, exp)\n",
    "            weights_updation(net, i, learning_rate)"
   ]
  },
  {
   "cell_type": "code",
   "execution_count": 1124,
   "id": "6dabcb77",
   "metadata": {},
   "outputs": [],
   "source": [
    "#Updating the delta weights function\n",
    "def update_delta_weights_sigmoid(layer,errors):\n",
    "    for j in range(len(layer)):\n",
    "            neu = layer[j]\n",
    "            neu['delta'] = errors[j] * (neu['output'] * (1.0 - neu['output']))"
   ]
  },
  {
   "cell_type": "code",
   "execution_count": 1125,
   "id": "14f2df74",
   "metadata": {},
   "outputs": [],
   "source": [
    "#Error calculating function\n",
    "def get_errors(i,x,layer,errors,net,exp):\n",
    "    if i != x-1:\n",
    "        for j in range(len(layer)):\n",
    "            error = 0.0\n",
    "            for neu in net[i + 1]:\n",
    "                error += (neu['weights'][j] * neu['delta'])\n",
    "            errors.append(error)\n",
    "    else:\n",
    "        for j in range(len(layer)):\n",
    "            neu = layer[j]\n",
    "            errors.append(exp[j] - neu['output'])\n",
    "    return errors"
   ]
  },
  {
   "cell_type": "code",
   "execution_count": 1126,
   "id": "655203dc",
   "metadata": {},
   "outputs": [],
   "source": [
    "# Function to calculate the backpropagation error for sigmoid derivation\n",
    "def back_propagate_sigmod_func(net, exp):\n",
    "    x=len(net)\n",
    "    for i in reversed(range(x)):\n",
    "        layer = net[i]\n",
    "        layer_length=len(layer)\n",
    "        errors = list()\n",
    "        errors=get_errors(i,x,layer,errors,net,exp)\n",
    "        update_delta_weights_sigmoid(layer,errors)"
   ]
  },
  {
   "cell_type": "code",
   "execution_count": 1127,
   "id": "b606abcd-0895-482d-8ad7-5e3409b3734c",
   "metadata": {},
   "outputs": [],
   "source": [
    "#Function for backpropagation - sigmoid\n",
    "def Back_propagation_sigmoid_algo(train, test, l_rate, n_epochs, n_hid):\n",
    "    trainLen=len(train[0])\n",
    "    no_inputs = trainLen - 1\n",
    "    no_outputs = len(set([value[-1] for value in train]))\n",
    "    network = get_initial_network(no_inputs, n_hid, no_outputs)\n",
    "    Train_net_sigmoid_func(network, train, l_rate, n_epochs, no_outputs)\n",
    "    pred_list = list()\n",
    "    for value in test:\n",
    "        pred = sigmoid_predict(network, value)\n",
    "        pred_list.append(pred)\n",
    "    return(pred_list)"
   ]
  },
  {
   "cell_type": "code",
   "execution_count": 1128,
   "id": "2550b11a-a51d-4f10-9910-b1a76fcb1514",
   "metadata": {},
   "outputs": [
    {
     "name": "stdout",
     "output_type": "stream",
     "text": [
      "\n",
      " Number of k-folds = 5\n",
      "\n",
      " Hidden Layer Nodes = 6\n",
      "Accuracy of k-folds =  [96.17486338797814, 91.2568306010929, 92.89617486338798, 94.53551912568307, 95.08196721311475]\n",
      "Mean Accuracy =  93.98907103825137\n",
      "\n",
      " Hidden Layer Nodes = 5\n",
      "Accuracy of k-folds =  [94.53551912568307, 94.53551912568307, 91.2568306010929, 95.62841530054644, 95.62841530054644]\n",
      "Mean Accuracy =  94.31693989071036\n",
      "\n",
      " Hidden Layer Nodes = 4\n",
      "Accuracy of k-folds =  [94.53551912568307, 98.36065573770492, 93.44262295081968, 91.80327868852459, 90.1639344262295]\n",
      "Mean Accuracy =  93.66120218579235\n",
      "\n",
      " Hidden Layer Nodes = 3\n",
      "Accuracy of k-folds =  [95.62841530054644, 92.89617486338798, 95.62841530054644, 92.89617486338798, 93.44262295081968]\n",
      "Mean Accuracy =  94.09836065573771\n",
      "\n",
      " Hidden Layer Nodes = 2\n",
      "Accuracy of k-folds =  [95.08196721311475, 93.98907103825137, 97.81420765027322, 95.62841530054644, 92.89617486338798]\n",
      "Mean Accuracy =  95.08196721311474\n",
      "\n",
      " Hidden Layer Nodes = 1\n",
      "Accuracy of k-folds =  [98.36065573770492, 93.44262295081968, 91.80327868852459, 95.08196721311475, 64.48087431693989]\n",
      "Mean Accuracy =  88.63387978142076\n"
     ]
    }
   ],
   "source": [
    "k_folds = 5\n",
    "print('\\n Number of k-folds =', k_folds)\n",
    "learning_rate = 0.001\n",
    "epochs = 100\n",
    "i=6\n",
    "while i > 0 :\n",
    "    train_dlist = list(train_data)\n",
    "    lenx = len(train_data)\n",
    "    sigmoid_val = algorithm_cvs(train_dlist,lenx, Back_propagation_sigmoid_algo, k_folds, learning_rate, epochs, i)\n",
    "    print('\\n Hidden Layer Nodes =', i)\n",
    "    print('Accuracy of k-folds = ', sigmoid_val)\n",
    "    mean_accuracy = sum(sigmoid_val)/float(len(sigmoid_val))\n",
    "    print('Mean Accuracy = ', mean_accuracy)\n",
    "    i = i-1\n"
   ]
  },
  {
   "cell_type": "code",
   "execution_count": 1129,
   "id": "93b937b7",
   "metadata": {},
   "outputs": [],
   "source": [
    "#The best accuracy is found with hidden layer node 2. Lets test with test dataset."
   ]
  },
  {
   "cell_type": "code",
   "execution_count": 1144,
   "id": "6be9ae16",
   "metadata": {},
   "outputs": [
    {
     "name": "stdout",
     "output_type": "stream",
     "text": [
      "\n",
      " Hidden Layer Nodes = 2\n",
      "Accuracy of k-folds =  [98.88888888888889, 90.0, 71.11111111111111, 84.44444444444444, 91.11111111111111]\n",
      "Mean Accuracy =  87.11111111111111\n"
     ]
    }
   ],
   "source": [
    "learning_rate = 0.001\n",
    "epochs = 100\n",
    "\n",
    "test_dlist = list(test_data)\n",
    "lenx=len(test_data)\n",
    "sig_val = algorithm_cvs(test_dlist,lenx, Back_propagation_sigmoid_algo, k_folds, learning_rate, epochs, 2)\n",
    "print('\\n Hidden Layer Nodes =', 2)\n",
    "print('Accuracy of k-folds = ', sig_val)\n",
    "mean_acc = sum(sig_val)/float(len(sig_val))\n",
    "print('Mean Accuracy = ', mean_acc)"
   ]
  },
  {
   "cell_type": "code",
   "execution_count": 1131,
   "id": "4e6a213b-014b-440f-b28a-fe6f1fdfa158",
   "metadata": {},
   "outputs": [],
   "source": [
    "#Hyperbolic tangent"
   ]
  },
  {
   "cell_type": "code",
   "execution_count": 1132,
   "id": "a38f18e8",
   "metadata": {},
   "outputs": [],
   "source": [
    "# performing the forward propagation for the given data.\n",
    "def tan_predict(net, r):\n",
    "    input_ = r\n",
    "    for layer in net:\n",
    "        new_ip = []\n",
    "        for neu in layer:\n",
    "            activation = neu_activation(neu['weights'], input_)\n",
    "            neu['output']= (np.exp(activation) - np.exp(-activation))/(np.exp(activation) + np.exp(-activation))\n",
    "            new_ip.append(neu['output'])\n",
    "        input_ = new_ip\n",
    "    a=input_\n",
    "    return a.index(max(a))"
   ]
  },
  {
   "cell_type": "code",
   "execution_count": 1133,
   "id": "b7efec3f",
   "metadata": {},
   "outputs": [],
   "source": [
    "#Updating the delta weights function for tan\n",
    "def update_delta_weights_tan(layer,errors):\n",
    "    for j in range(len(layer)):\n",
    "            neu = layer[j]\n",
    "            sq=math.pow(neu['output'],2)\n",
    "            neu['delta'] = errors[j] * (1.0 -sq)"
   ]
  },
  {
   "cell_type": "code",
   "execution_count": 1134,
   "id": "d148c1bd",
   "metadata": {},
   "outputs": [],
   "source": [
    "def backward_propagation_tan(net, exp):\n",
    "    t= reversed(range(len(net)))\n",
    "    x=len(net)\n",
    "    k=x-1\n",
    "    for i in t:\n",
    "        layer = net[i]\n",
    "        errors = list()\n",
    "        len_layer=len(layer)\n",
    "        errors=get_errors(i,x,layer,errors,net,exp)\n",
    "        update_delta_weights_tan(layer,errors)"
   ]
  },
  {
   "cell_type": "code",
   "execution_count": 1135,
   "id": "a990823c-792c-4b02-aae3-5387ea03645d",
   "metadata": {},
   "outputs": [],
   "source": [
    "# Initializing a network Train with a fixed number of epochs\n",
    "def Train_net_tan(net, train, l_rate, n_epo, n_op):\n",
    "    for epo in range(n_epo):\n",
    "        for i in train:\n",
    "            op = tan_predict(net, i)\n",
    "            exp = [0 for i in range(n_op)]\n",
    "            exp[i[-1]] = 1\n",
    "            backward_propagation_tan(net, exp)\n",
    "            weights_updation(net, i, l_rate)"
   ]
  },
  {
   "cell_type": "code",
   "execution_count": 1136,
   "id": "0742a5f5-fe94-4783-9075-740d1884d152",
   "metadata": {},
   "outputs": [],
   "source": [
    "# Backpropagation Algorithm for tangent\n",
    "def Back_propagation_algo_tan(train, test, l_rate, n_epo, n_hidden):\n",
    "    no_inputs = len(train[0]) - 1\n",
    "    no_outputs = len(set([value[-1] for value in train]))\n",
    "    network = get_initial_network(no_inputs, n_hidden, no_outputs)\n",
    "    Train_net_tan(network, train, l_rate, n_epo, no_outputs)\n",
    "    pred_list = list()\n",
    "    for value in test:\n",
    "        pred = tan_predict(network, value)\n",
    "        pred_list.append(pred)\n",
    "    return(pred_list)"
   ]
  },
  {
   "cell_type": "code",
   "execution_count": null,
   "id": "c70270a5-6c7a-4d58-9ad2-a14c9ba8bd44",
   "metadata": {},
   "outputs": [],
   "source": []
  },
  {
   "cell_type": "code",
   "execution_count": 1137,
   "id": "62f4f533-09c9-452f-86b6-3f33cea0c683",
   "metadata": {},
   "outputs": [
    {
     "name": "stdout",
     "output_type": "stream",
     "text": [
      "\n",
      " Number of k-folds = 5\n",
      "\n",
      " Hidden Layer Nodes = 6\n",
      "Accuracy of k-folds =  [97.81420765027322, 98.36065573770492, 100.0, 99.4535519125683, 98.90710382513662]\n",
      "Mean Accuracy =  98.9071038251366\n",
      "\n",
      " Hidden Layer Nodes = 5\n",
      "Accuracy of k-folds =  [99.4535519125683, 98.36065573770492, 98.90710382513662, 100.0, 97.26775956284153]\n",
      "Mean Accuracy =  98.79781420765028\n",
      "\n",
      " Hidden Layer Nodes = 4\n",
      "Accuracy of k-folds =  [97.26775956284153, 99.4535519125683, 100.0, 98.36065573770492, 99.4535519125683]\n",
      "Mean Accuracy =  98.9071038251366\n",
      "\n",
      " Hidden Layer Nodes = 3\n",
      "Accuracy of k-folds =  [100.0, 98.90710382513662, 97.81420765027322, 98.90710382513662, 99.4535519125683]\n",
      "Mean Accuracy =  99.01639344262296\n",
      "\n",
      " Hidden Layer Nodes = 2\n",
      "Accuracy of k-folds =  [99.4535519125683, 98.90710382513662, 98.90710382513662, 97.81420765027322, 98.36065573770492]\n",
      "Mean Accuracy =  98.68852459016394\n",
      "\n",
      " Hidden Layer Nodes = 1\n",
      "Accuracy of k-folds =  [98.36065573770492, 99.4535519125683, 99.4535519125683, 97.26775956284153, 100.0]\n",
      "Mean Accuracy =  98.9071038251366\n"
     ]
    }
   ],
   "source": [
    "k_folds = 5\n",
    "print('\\n Number of k-folds =', k_folds)\n",
    "learning_rate = 0.001\n",
    "epochs = 100\n",
    "\n",
    "i = 6\n",
    "while i>0 :\n",
    "    train_dlist = list(train_data)\n",
    "    lenx=len(train_data)\n",
    "    tanh_value = algorithm_cvs(train_dlist, lenx,Back_propagation_algo_tan, k_folds, learning_rate, epochs, i)\n",
    "    print('\\n Hidden Layer Nodes =', i)\n",
    "    print('Accuracy of k-folds = ', tanh_value)\n",
    "    mean_accuracy = sum(tanh_value)/float(len(tanh_value))\n",
    "    print('Mean Accuracy = ', mean_accuracy)\n",
    "    i = i-1"
   ]
  },
  {
   "cell_type": "code",
   "execution_count": 1138,
   "id": "931938b1-ef8f-4904-bcdb-37352ee68f39",
   "metadata": {},
   "outputs": [],
   "source": [
    "#The best accuracy is found with hidden layer node 3. Lets test  with test dataset."
   ]
  },
  {
   "cell_type": "code",
   "execution_count": 1139,
   "id": "579dba86-85d3-4e5b-8c92-bba3756ae105",
   "metadata": {},
   "outputs": [
    {
     "name": "stdout",
     "output_type": "stream",
     "text": [
      "\n",
      " Hidden Layer Nodes = 3\n",
      "Accuracy of k-folds =  [98.36065573770492, 99.4535519125683, 99.4535519125683, 97.26775956284153, 100.0]\n",
      "Mean Accuracy =  98.66666666666667\n"
     ]
    }
   ],
   "source": [
    "learning_rate = 0.001\n",
    "epochs = 100\n",
    "\n",
    "test_dlist = list(test_data)\n",
    "lenx=len(test_data)\n",
    "tanh_val = algorithm_cvs(test_dlist, lenx,Back_propagation_algo_tan, k_folds, learning_rate, epochs,3  )\n",
    "print('\\n Hidden Layer Nodes =', 3)\n",
    "print('Accuracy of k-folds = ', tanh_value)\n",
    "mean_accuracy = sum(tanh_val)/float(len(tanh_val))\n",
    "print('Mean Accuracy = ', mean_accuracy)"
   ]
  },
  {
   "cell_type": "code",
   "execution_count": null,
   "id": "d75b76a6-358b-4244-816c-0524714ebb20",
   "metadata": {},
   "outputs": [],
   "source": []
  }
 ],
 "metadata": {
  "kernelspec": {
   "display_name": "Python 3 (ipykernel)",
   "language": "python",
   "name": "python3"
  },
  "language_info": {
   "codemirror_mode": {
    "name": "ipython",
    "version": 3
   },
   "file_extension": ".py",
   "mimetype": "text/x-python",
   "name": "python",
   "nbconvert_exporter": "python",
   "pygments_lexer": "ipython3",
   "version": "3.9.12"
  }
 },
 "nbformat": 4,
 "nbformat_minor": 5
}
